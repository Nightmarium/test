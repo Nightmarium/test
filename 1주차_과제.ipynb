{
  "nbformat": 4,
  "nbformat_minor": 0,
  "metadata": {
    "colab": {
      "name": "1주차 과제.ipynb",
      "provenance": [],
      "collapsed_sections": [],
      "authorship_tag": "ABX9TyPLnR8zJONSmRa61YO45+1M",
      "include_colab_link": true
    },
    "kernelspec": {
      "name": "python3",
      "display_name": "Python 3"
    }
  },
  "cells": [
    {
      "cell_type": "markdown",
      "metadata": {
        "id": "view-in-github",
        "colab_type": "text"
      },
      "source": [
        "<a href=\"https://colab.research.google.com/github/Nightmarium/test/blob/master/1%EC%A3%BC%EC%B0%A8_%EA%B3%BC%EC%A0%9C.ipynb\" target=\"_parent\"><img src=\"https://colab.research.google.com/assets/colab-badge.svg\" alt=\"Open In Colab\"/></a>"
      ]
    },
    {
      "cell_type": "markdown",
      "metadata": {
        "id": "Lj5V9hGoc8zB",
        "colab_type": "text"
      },
      "source": [
        "광주 인공지능 사관학교 프리코스\n",
        "=========="
      ]
    },
    {
      "cell_type": "markdown",
      "metadata": {
        "id": "oNyyrg1qdE46",
        "colab_type": "text"
      },
      "source": [
        "1주차 과제\n",
        "----------"
      ]
    },
    {
      "cell_type": "markdown",
      "metadata": {
        "id": "Kdl4THpMeEzN",
        "colab_type": "text"
      },
      "source": [
        "### 다양한 제품과 서비스 속 인공지능 기술"
      ]
    },
    {
      "cell_type": "markdown",
      "metadata": {
        "id": "kFtHNI5oGcU5",
        "colab_type": "text"
      },
      "source": [
        "# 1. 언어"
      ]
    },
    {
      "cell_type": "markdown",
      "metadata": {
        "id": "5goHwSo5jHJR",
        "colab_type": "text"
      },
      "source": [
        "<img src=\"https:\\\\drive.google.com\\uc?id=1C7Ye0dIz2SoxwnfAQFv42jkn7ksIGvJq\" width=\"450px\" height=\"300px\" title=\"인공지능 언어 번역 이미지\"></img><br/>"
      ]
    },
    {
      "cell_type": "markdown",
      "metadata": {
        "id": "pvWxVznUGkC4",
        "colab_type": "text"
      },
      "source": [
        "* 링크: [자동번역 서비스 Xtra][xtralink]\n",
        "\n",
        "[xtralink]: https://www.xtra.global/"
      ]
    },
    {
      "cell_type": "markdown",
      "metadata": {
        "id": "OvMltYcVe_yl",
        "colab_type": "text"
      },
      "source": [
        "> 이전까지 언어와 관련된 인공지능 기술에는 큰 관심이 없었지만 최근에 Xtra를 비롯한 AI 번역 서비스 등을 접하면서 관심이 생겼습니다. 특히 마이크로소프트에서 중국어 뉴스 기사를 영어로 번역하는 모델이 인간 수준에 도달했다는 발표를 보고 더 놀라웠습니다. 여기서 말하는 '인간 수준'은 일반인이 아닌 전문 번역가 수준이라는데 매우 신기했습니다."
      ]
    },
    {
      "cell_type": "markdown",
      "metadata": {
        "id": "fKoRhi2Hd6pL",
        "colab_type": "text"
      },
      "source": [
        "<hr/>"
      ]
    },
    {
      "cell_type": "markdown",
      "metadata": {
        "id": "F-qY4ZbaGkWO",
        "colab_type": "text"
      },
      "source": [
        "# 2. 음성"
      ]
    },
    {
      "cell_type": "markdown",
      "metadata": {
        "id": "ory2PnPInuiO",
        "colab_type": "text"
      },
      "source": [
        "<img src=\"https:\\\\drive.google.com\\uc?id=1faibAUf01c32yMjM8E7MWhu3aPCImPwH\" width=\"450px\" height=\"300px\" title=\"뉴트리노 소개 이미지\"></img>"
      ]
    },
    {
      "cell_type": "markdown",
      "metadata": {
        "id": "IndaJY63Gknx",
        "colab_type": "text"
      },
      "source": [
        "* 링크: [뉴트리노][n3utrinolink]\n",
        "\n",
        "[n3utrinolink]: https://n3utrino.work/"
      ]
    },
    {
      "cell_type": "markdown",
      "metadata": {
        "id": "8Rj7AwR3n-8Y",
        "colab_type": "text"
      },
      "source": [
        "> 신경망을 통해 딥러닝으로 음성합성을 하는 소프트웨어라고 합니다. 기존 보컬로이드 시장에 새로운 바람을 불었다는 평가를 받고 있더라구요. 기존의 보컬로이드는 상당히 많은 노가다 작업을 필요로 했다고 알고 있었는데, 뉴트리노는 별도의 그러한 작업없이 딥러닝만으로 높은 퀄리티의 음성을 합성해낸다고 하네요. 실제로 들어보면 진짜 사람의 목소리와 매우 유사하게 들려 놀라웠습니다."
      ]
    },
    {
      "cell_type": "markdown",
      "metadata": {
        "id": "2hFh28xdd9Tj",
        "colab_type": "text"
      },
      "source": [
        "<hr/>"
      ]
    },
    {
      "cell_type": "markdown",
      "metadata": {
        "id": "2uf_YAFMHKCq",
        "colab_type": "text"
      },
      "source": [
        "# 3. 이미지"
      ]
    },
    {
      "cell_type": "markdown",
      "metadata": {
        "id": "k2la4On9o9c-",
        "colab_type": "text"
      },
      "source": [
        "<img src=\"https:\\\\drive.google.com\\uc?id=11Pg3nfNlqygrc6XuqnmLvoHv74XVQqiS\" width=\"450px\" height=\"300px\" title=\"Qwake의 소방관 헬멧\"></img>"
      ]
    },
    {
      "cell_type": "markdown",
      "metadata": {
        "id": "1AZHXQ6nHKQD",
        "colab_type": "text"
      },
      "source": [
        "* 링크: [컴퓨터 비전 소방관 헬멧][qwakelink]\n",
        "\n",
        "[qwakelink]: https://www.qwake.tech/"
      ]
    },
    {
      "cell_type": "markdown",
      "metadata": {
        "id": "A9FEMLilpbkP",
        "colab_type": "text"
      },
      "source": [
        "> 이전까지의 소방관들은 불 속으로 뛰어들어 어두컴컴한 연기 사이에서 구조 작업을 진행했습니다. 시야가 정상적으로 확보되지 않는 상황이 대부분이다보니 시각 정보의 부족으로 인해 인명구조 실패, 혹은 소방관의 희생까지 겪어야 했습니다. 그러나 Qwake사에서 만든 헬멧은 컴퓨터 비전 기술을 활용해 어두운 시야 속에서도 사물들의 윤곽선이 뚜렷하게 보이는 기능을 제공한다고 하네요. 인공지능이 생명과 관련된 분야에서도 활약하는 모습이 너무나 놀라웠고, 이전부터 컴퓨터 비전 쪽에 관심이 있던터라 매우 흥미로웠습니다."
      ]
    },
    {
      "cell_type": "markdown",
      "metadata": {
        "id": "vhVX-dm-d-rm",
        "colab_type": "text"
      },
      "source": [
        "<hr/>"
      ]
    },
    {
      "cell_type": "markdown",
      "metadata": {
        "id": "2Qw8SaafHKhR",
        "colab_type": "text"
      },
      "source": [
        "# 4. 자율주행"
      ]
    },
    {
      "cell_type": "markdown",
      "metadata": {
        "id": "q6aHTMYwqz_T",
        "colab_type": "text"
      },
      "source": [
        "<img src=\"https:\\\\drive.google.com\\uc?id=1yfgwmhkrkiZEVyEZHIbPwEwCzVjIdiCd\" width=\"450px\" height=\"300px\" title=\"로보레이스 소개 영상 중 일부\"></img>"
      ]
    },
    {
      "cell_type": "markdown",
      "metadata": {
        "id": "m0RSmIxiHKv4",
        "colab_type": "text"
      },
      "source": [
        "* 링크: [자율주행 레이싱카][roboracelink]\n",
        "\n",
        "[roboracelink]: https://roborace.com/"
      ]
    },
    {
      "cell_type": "markdown",
      "metadata": {
        "id": "TROT-F83rGBt",
        "colab_type": "text"
      },
      "source": [
        "> 로보레이스 사에서 자율주행 레이싱카를 개발 중이라고 합니다. 기존에 자율주행하면 평범하게 차도를 달리는 자동차들만 생각했었는데 레이싱카를 자율주행으로 만든다는게 신선했습니다. 레이싱 경기는 아무래도 위험이 따르는 경기다보니 선수들의 안전 문제도 중요한데 사람이 탑승하지 않은, 자율주행 레이싱카들의 경기라면 매우 흥미롭게 관람할 수 있을거란 생각이 들었습니다. 자율주행은 아무래도 하드웨어적인 부분이 뒷받침되어야 시도해 볼 수 있는 분야라고 알고 있지만 로보레이스를 보고 도전해보고 싶어졌습니다."
      ]
    },
    {
      "cell_type": "markdown",
      "metadata": {
        "id": "DwnKfARFeBku",
        "colab_type": "text"
      },
      "source": [
        "<hr/>"
      ]
    }
  ]
}