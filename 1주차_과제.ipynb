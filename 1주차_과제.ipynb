{
  "nbformat": 4,
  "nbformat_minor": 0,
  "metadata": {
    "colab": {
      "name": "1주차 과제.ipynb",
      "provenance": [],
      "collapsed_sections": [],
      "authorship_tag": "ABX9TyOQFAMm3IMQfGHInQWWOp1o",
      "include_colab_link": true
    },
    "kernelspec": {
      "name": "python3",
      "display_name": "Python 3"
    }
  },
  "cells": [
    {
      "cell_type": "markdown",
      "metadata": {
        "id": "view-in-github",
        "colab_type": "text"
      },
      "source": [
        "<a href=\"https://colab.research.google.com/github/Nightmarium/test/blob/master/1%EC%A3%BC%EC%B0%A8_%EA%B3%BC%EC%A0%9C.ipynb\" target=\"_parent\"><img src=\"https://colab.research.google.com/assets/colab-badge.svg\" alt=\"Open In Colab\"/></a>"
      ]
    },
    {
      "cell_type": "markdown",
      "metadata": {
        "id": "kFtHNI5oGcU5",
        "colab_type": "text"
      },
      "source": [
        "1. 언어"
      ]
    },
    {
      "cell_type": "markdown",
      "metadata": {
        "id": "pvWxVznUGkC4",
        "colab_type": "text"
      },
      "source": [
        "http://www.aitimes.kr/news/articleView.html?idxno=14276"
      ]
    },
    {
      "cell_type": "markdown",
      "metadata": {
        "id": "F-qY4ZbaGkWO",
        "colab_type": "text"
      },
      "source": [
        "2. 음성"
      ]
    },
    {
      "cell_type": "markdown",
      "metadata": {
        "id": "IndaJY63Gknx",
        "colab_type": "text"
      },
      "source": [
        "https://n3utrino.work/"
      ]
    },
    {
      "cell_type": "code",
      "metadata": {
        "id": "4EsdLPzpHJVS",
        "colab_type": "code",
        "colab": {}
      },
      "source": [
        ""
      ],
      "execution_count": 0,
      "outputs": []
    },
    {
      "cell_type": "markdown",
      "metadata": {
        "id": "2uf_YAFMHKCq",
        "colab_type": "text"
      },
      "source": [
        "3. 이미지"
      ]
    },
    {
      "cell_type": "markdown",
      "metadata": {
        "id": "1AZHXQ6nHKQD",
        "colab_type": "text"
      },
      "source": [
        "https://www.qwake.tech/"
      ]
    },
    {
      "cell_type": "markdown",
      "metadata": {
        "id": "2Qw8SaafHKhR",
        "colab_type": "text"
      },
      "source": [
        "4. 자율주행"
      ]
    },
    {
      "cell_type": "markdown",
      "metadata": {
        "id": "m0RSmIxiHKv4",
        "colab_type": "text"
      },
      "source": [
        "https://roborace.com/"
      ]
    },
    {
      "cell_type": "code",
      "metadata": {
        "id": "okt37405Ipfd",
        "colab_type": "code",
        "colab": {}
      },
      "source": [
        ""
      ],
      "execution_count": 0,
      "outputs": []
    }
  ]
}